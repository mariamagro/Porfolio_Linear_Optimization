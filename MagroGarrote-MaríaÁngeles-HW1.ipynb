{
 "cells": [
  {
   "cell_type": "markdown",
   "id": "9bf0f64a",
   "metadata": {},
   "source": [
    "# PORTFOLIO OPTIMIZATION"
   ]
  },
  {
   "cell_type": "markdown",
   "id": "26a7a889",
   "metadata": {},
   "source": [
    "### Made by: María Ángeles Magro Garrote"
   ]
  },
  {
   "cell_type": "markdown",
   "id": "0397e169",
   "metadata": {},
   "source": [
    "## A) Problem formulation"
   ]
  },
  {
   "cell_type": "markdown",
   "id": "3b9abef8",
   "metadata": {},
   "source": [
    "### Description of the problem"
   ]
  },
  {
   "cell_type": "markdown",
   "id": "2ba30371",
   "metadata": {},
   "source": [
    "In the context of finance, a portfolio optimization is the process of selecting an optimal asset distribution, according to some objective. This is a critical point in portfolio investment. In this scenario, the assets are several companies with unique features such as the expected return and the sector they belong to. The main goal is to allocate the resources among these companies in order to maximize the overall return while being subject to several constraints, including budgetary limits and sector-specific investment guidelines among others.\n"
   ]
  },
  {
   "cell_type": "markdown",
   "id": "f69127bb",
   "metadata": {},
   "source": [
    "Taking the general formulation of the problem into account the following terms are going to be defined:\n",
    "* <b><u>Model sets</u></b>: the only model set that is going to be used in our model is <b>\"model.i\"</b> which represents the companies in our portfolio. Each company is identified with the index \"i\".\n",
    "\n",
    "\n",
    "* <b><u>Parameters</u></b>: \n",
    "    * <b>model.r</b>: This parameter represents the <u>expected return</u> for each company. The expected return for each company is calculated with the mean of the returns for the previous months. This is done using previous stock market data. The corresponding formula is: \n",
    "\n",
    "    <img src=\"reward_calculation.png\" width=\"600\" height=\"500\">\n",
    "    \n",
    "    The natural logarithm of the percentage change is taken for calculating the return among two months. Using the natural logarithm has the effect of normalizing the returns. Then, for calculating the mean of all the returns the sum of all of the mis done and divided into all the months for which there is data.\n",
    "    </br>\n",
    "    * <b> model.var </b>: This parameter represents the <u>variances</u> of the companies calculated from the stock prices of the previous months. \n",
    "    * <b>model.sector</b>: This parameter represents the <u>sector</u> each company belongs to. It is useful to control the allocation of funds to different sectors.\n",
    "    * <b>model.budget</b>: This parameter represents the <u>total budget</u> available for investment.\n",
    "    * <b>model.max_asset</b>: This parameter represents the <u>maximum percentage of the budget</u> that can be invested in a <u>single asset</u>.\n",
    "    * <b>model.max_sector</b>: This parameter represents the <u>maximum percentage</u> of the budget that can be invested in a <u>single sector</u>.\n",
    "    * <b> model.max_var</b>: This parameter represents the percentage of the <u>highest variance</u> generated that the model can afford. For example, 0.8 would mean that the maximum variance that a company selected can have is the 80% of the highest variance in our dataset of companies.\n",
    "    \n",
    "    \n",
    "* <b><u>Decision variable</u></b>: Our decision variable \"model.x\" represents the money invested in each asset (company in our case). This amount will be optimized so that the portfolio's expected return is maximized.\n",
    "\n",
    "\n",
    "* <b><u>Objective function</u></b>: The objective function, focused on the expected returns and decision variables, provides a quantitative measure of success maximizing the total expected return within the defined constraints. Then, the objective function is the sum of the expected returns weighted by the proportion of the budget invested in each asset. Therefore, the formula needed to solve this linear problem is: <img src=\"objective_function.png\" width=\"300\" height=\"200\"> Here: \n",
    "    * i iterates all over the different companies\n",
    "    * ri is the expected return of the company i\n",
    "    * xi is the amount of money invested in the company i\n",
    "    \n",
    "    The objective is to <u>MAXIMIZE</u> this function, which represents the expected return per investment in each asset of the portfolio. The optimization process will find the optimal allocation of funds to maximize the total expected return while adhering to the given constraints.\n",
    "   \n",
    "* <b><u>Constraints</u></b>\n",
    "1) Total Budget Lower Bound: \"budget_constraint_lower_rule\" ensures that at least 50% of the budget is invested. \n",
    "</br>\n",
    "<img src=\"total_budget_lower_bound.png\" width=\"300\" height=\"200\">\n",
    "</br>\n",
    "\n",
    "2) Total Budget Upper Bound: \"budget_constraint_upper_rule\" ensures that, at much, no more money is invested than the budget.\n",
    "</br>\n",
    "<img src=\"total_budget_upper_bound.png\" width=\"300\" height=\"200\">\n",
    "</br>\n",
    "\n",
    "3) Non-negative values: \"non_negativity_constraint_rule\" ensures that there can not be negative money invested, which is not feasible. \n",
    "</br>\n",
    " <img src=\"nonnegative_constraint.png\" width=\"220\" height=\"70\">\n",
    "</br>\n",
    "\n",
    "4) Maximum Asset Weight: \"max_weight_constraint_rule\" limits the percentage of the budget that can be associated to an individual company. \n",
    " </br>\n",
    " <img src=\"maximum_weight_asset.png\" width=\"500\" height=\"400\">\n",
    "</br>\n",
    "5) Sector Investment Constraint: \"sector_investment_constraint_rule\" ensures that the total investment in any sector does not exceed a specified percentage of the total budget.\n",
    " </br>\n",
    " <img src=\"maximum_weight_sector.png\" width=\"500\" height=\"400\">\n",
    "\n",
    "6) Maximum Variance Constraint: \"max_variance_ctr_rule \" limits the variance of each company stock prices by using the maximum variance in the dataset and limiting it to a ratio (from 0 to 1) of it.\n",
    "\n",
    " <img src=\"maximum_variance.png\" width=\"450\" height=\"350\">\n",
    "\n",
    "\n"
   ]
  },
  {
   "cell_type": "markdown",
   "id": "f5a49662",
   "metadata": {},
   "source": [
    "### Data creation"
   ]
  },
  {
   "cell_type": "markdown",
   "id": "2167f825",
   "metadata": {},
   "source": [
    "Note that the stock prices and sectors of each company have been randomly created."
   ]
  },
  {
   "cell_type": "code",
   "execution_count": 1,
   "id": "82c6d28f",
   "metadata": {},
   "outputs": [],
   "source": [
    "# Libraries\n",
    "\n",
    "import random # for data generation \n",
    "from pyomo.environ import * # model creation and solving\n",
    "import numpy as np # graphs and calculations\n",
    "import matplotlib.pyplot as plt # graphs\n",
    "import seaborn as sns # graphs"
   ]
  },
  {
   "cell_type": "markdown",
   "id": "db12ccac",
   "metadata": {},
   "source": [
    "These parameters can be personalized depending on the preferences the user may have. The rest of the code must not be edited. "
   ]
  },
  {
   "cell_type": "code",
   "execution_count": 2,
   "id": "78efd16c",
   "metadata": {},
   "outputs": [],
   "source": [
    "# YOU CAN ADJUST THIS PARAMETERS AS WANTED!\n",
    "\n",
    "budget = 1000000 # Total budget\n",
    "num_companies = 100 # Number of companies = NUMBER OF DECISION VARIABLES\n",
    "years = 1 # Years of previous stock prices that will be analysed\n",
    "max_asset_percentage = 0.2 # Maximum percentage of the budget that can be invested in an unique asset\n",
    "max_sector_percentage = 0.25 # Maximum percentage of the budget that can be invested in the same sector\n",
    "max_variance = 0.8 # Maximum variance (Percentage from the maximum variance in the dataset)"
   ]
  },
  {
   "cell_type": "code",
   "execution_count": 3,
   "id": "cef4ac9d",
   "metadata": {},
   "outputs": [],
   "source": [
    "if num_companies < 20:\n",
    "    raise ValueError(\"It is needed at least 20 companies!\")"
   ]
  },
  {
   "cell_type": "code",
   "execution_count": 4,
   "id": "81b24f6b",
   "metadata": {},
   "outputs": [],
   "source": [
    "# For reproducible results of the random library\n",
    "random.seed(\"12\")"
   ]
  },
  {
   "cell_type": "markdown",
   "id": "f6e9d2cd",
   "metadata": {},
   "source": [
    "As mentioned in the statement, first, different stock prices are generated for the selected number of previous months."
   ]
  },
  {
   "cell_type": "code",
   "execution_count": 5,
   "id": "5e053231",
   "metadata": {},
   "outputs": [],
   "source": [
    "# Generating historical data for the number of months chosen for each company\n",
    "\n",
    "companies_data = {}\n",
    "for i in range(num_companies):\n",
    "    company = f'C{i}'  # Company name\n",
    "    prices = [] \n",
    "    for j in range(years * 12):\n",
    "        price = random.uniform(100, 1000) # The stock price may vary among 100 and 1000\n",
    "        prices.append(price) \n",
    "    companies_data[company] = prices # A dictionary is created that will have the data of all the months"
   ]
  },
  {
   "cell_type": "code",
   "execution_count": 6,
   "id": "792c71e9",
   "metadata": {},
   "outputs": [
    {
     "name": "stdout",
     "output_type": "stream",
     "text": [
      "C0: [632.992657393448, 758.7942579483899, 377.42778529917064, 473.3179990468413, 680.3278729232978, 948.8635342909175, 428.3201175951937, 718.0267178402919, 305.2120260726755, 663.5636966717808, 695.1009956501019, 565.6587919465924]\n",
      "C1: [854.1026944949367, 202.08919303668677, 617.1796180768866, 112.51862400515611, 173.25751286511507, 961.9280459503759, 208.957376854587, 182.9526129827911, 980.2730157479245, 626.3612812538828, 545.3582734541492, 257.9918619413945]\n",
      "C2: [833.0918476057964, 884.2354219291424, 792.6447276470675, 461.69089558493073, 559.8417119467133, 920.5720530880884, 186.3797078170678, 627.3761189742769, 633.8024575880471, 658.6012342324833, 742.3040448270366, 839.1401397105765]\n"
     ]
    }
   ],
   "source": [
    "# Display the first n entries of the dictionary for more understanding\n",
    "n = 3\n",
    "\n",
    "for key, value in list(companies_data.items())[:n]:\n",
    "    print(f'{key}: {value}')"
   ]
  },
  {
   "cell_type": "markdown",
   "id": "70b7205a",
   "metadata": {},
   "source": [
    "Taking into account the data that is available now, the formula mentioned in the statement (formula return = log (price of this month / price of the previous month) for calculating the return for consecutive months is applied. Then, once all the returns for a key (company) have been calculated, the mean is done among all of them."
   ]
  },
  {
   "cell_type": "code",
   "execution_count": 7,
   "id": "d26fbad7",
   "metadata": {},
   "outputs": [],
   "source": [
    "# dictionary that will be used for model.r\n",
    "company_expected_returns = {}\n",
    "\n",
    "# loop for each company and then for each stock price available.\n",
    "for company, stock_prices in companies_data.items():\n",
    "    monthly_returns = [] #list where returns are stored\n",
    "    for i in range(1, len(stock_prices)):\n",
    "        return_value = np.log(stock_prices[i] / stock_prices[i - 1]) #formula for return\n",
    "        monthly_returns.append(return_value)\n",
    "    \n",
    "    # Calculate the mean (expected return) of monthly returns\n",
    "    expected_return = sum(monthly_returns) / len(monthly_returns)\n",
    "    \n",
    "    # Storing it into the dictionary\n",
    "    company_expected_returns[company] = round(expected_return,2)"
   ]
  },
  {
   "cell_type": "code",
   "execution_count": 8,
   "id": "4f27abee",
   "metadata": {},
   "outputs": [
    {
     "name": "stdout",
     "output_type": "stream",
     "text": [
      "C0: -0.01\n",
      "C1: -0.11\n",
      "C2: 0.0\n",
      "C3: -0.03\n",
      "C4: -0.03\n"
     ]
    }
   ],
   "source": [
    "# Preview of model.r\n",
    "n = 5\n",
    "\n",
    "for key, value in list(company_expected_returns.items())[:n]:\n",
    "    print(f'{key}: {value}')"
   ]
  },
  {
   "cell_type": "markdown",
   "id": "880909f9",
   "metadata": {},
   "source": [
    "Instead of creating again a loop for the names of the companies, the names can be obtained from the dictionaries keys."
   ]
  },
  {
   "cell_type": "code",
   "execution_count": 9,
   "id": "0f45f4b7",
   "metadata": {},
   "outputs": [],
   "source": [
    "# this list is going to be used for the creation of model.i\n",
    "companies = list(companies_data.keys())"
   ]
  },
  {
   "cell_type": "markdown",
   "id": "252e5594",
   "metadata": {},
   "source": [
    "Using the stock prices, a variance is calculated for each company"
   ]
  },
  {
   "cell_type": "code",
   "execution_count": 10,
   "id": "6a50a338",
   "metadata": {},
   "outputs": [],
   "source": [
    "# Calculate variances for each company\n",
    "variances = {company: sum((value - sum(data) / len(data))**2 for value in data) / len(data) for company, data in companies_data.items()}"
   ]
  },
  {
   "cell_type": "code",
   "execution_count": 11,
   "id": "c27a74dd",
   "metadata": {},
   "outputs": [
    {
     "name": "stdout",
     "output_type": "stream",
     "text": [
      "C0: 30369.034943126186\n",
      "C1: 98686.22208669172\n",
      "C2: 39667.10038285634\n"
     ]
    }
   ],
   "source": [
    "# Preview of variances\n",
    "n = 3\n",
    "\n",
    "for key, value in list(variances.items())[:n]:\n",
    "    print(f'{key}: {value}')"
   ]
  },
  {
   "cell_type": "markdown",
   "id": "98dac510",
   "metadata": {},
   "source": [
    "Randomly, among a list of different sectors, each one is going to be assigned to at least one company."
   ]
  },
  {
   "cell_type": "code",
   "execution_count": 12,
   "id": "9b48b152",
   "metadata": {},
   "outputs": [],
   "source": [
    "# Define the set of sectors. All the sectors are partnered with at least on company. \n",
    "sectors = ['Technology', 'Finance', 'Healthcare', 'Other', 'Energy', \n",
    "    'Consumer Goods', 'Telecommunications', 'Manufacturing']\n",
    "\n",
    "# Calculate the number of sectors\n",
    "num_sectors = len(sectors)\n",
    "\n",
    "# Order the sectors randomly    \n",
    "random.shuffle(sectors)\n",
    "\n",
    "# Create a dictionary to store the mapping of companies to sectors\n",
    "company_sector= {}\n",
    "\n",
    "# Assign sectors to companies\n",
    "for i in range(num_companies):  \n",
    "    if i >= num_sectors:\n",
    "        # Shuffle the sectors after all of them have been assigned to ensure more random results\n",
    "        random.shuffle(sectors)\n",
    "    company = companies[i]\n",
    "    # Use modulo to cycle through sectors\n",
    "    sector = sectors[i % num_sectors] \n",
    "    company_sector[company] = sector"
   ]
  },
  {
   "cell_type": "code",
   "execution_count": 13,
   "id": "ce7144ac",
   "metadata": {},
   "outputs": [
    {
     "name": "stdout",
     "output_type": "stream",
     "text": [
      "C0: Technology\n",
      "C1: Manufacturing\n",
      "C2: Finance\n"
     ]
    }
   ],
   "source": [
    "# Preview of model.sector\n",
    "n = 3\n",
    "\n",
    "for key, value in list(company_sector.items())[:n]:\n",
    "    print(f'{key}: {value}')"
   ]
  },
  {
   "cell_type": "markdown",
   "id": "65c1c31b",
   "metadata": {},
   "source": [
    "## B) Implementation of the model in a Pyomo notebook"
   ]
  },
  {
   "cell_type": "code",
   "execution_count": 14,
   "id": "e9f979da",
   "metadata": {},
   "outputs": [
    {
     "name": "stdout",
     "output_type": "stream",
     "text": [
      "WARNING: DEPRECATED: Param 'sector' declared with an implicit domain of 'Any'.\n",
      "The default domain for Param objects is 'Any'.  However, we will be changing\n",
      "that default to 'Reals' in the future.  If you really intend the domain of\n",
      "this Paramto be 'Any', you can suppress this warning by explicitly specifying\n",
      "'within=Any' to the Param constructor. (deprecated in 5.6.9, will be removed\n",
      "in (or after) 6.0) (called from\n",
      "C:\\Users\\mamgm\\anaconda3\\envs\\Optimization\\lib\\site-\n",
      "packages\\pyomo\\core\\base\\indexed_component.py:716)\n"
     ]
    }
   ],
   "source": [
    "model = ConcreteModel()\n",
    "\n",
    "# Companies\n",
    "model.i = Set(initialize=companies, doc=\"Companies\")\n",
    "# Returns\n",
    "model.r = Param(model.i, initialize=company_expected_returns, doc=\"Expected return\")\n",
    "# Variances\n",
    "model.var = Param(model.i, initialize = variances, doc = \"Variances\")\n",
    "# Sectors\n",
    "model.sector = Param(model.i, initialize=company_sector, doc=\"Sector of each company\")\n",
    "\n",
    "# Total budget\n",
    "model.budget = Param(initialize = budget, doc = 'Total budget')\n",
    "# Maximum weight per asset\n",
    "model.max_asset = Param(initialize = max_asset_percentage, doc = 'Maximum percentage of budget that can be invested in an asset')\n",
    "# Maximum weight per sector\n",
    "model.max_sector = Param(initialize = max_sector_percentage, doc = 'Maximum percentage of budget that can be invested in a sector')\n",
    "# Maximum variance \n",
    "model.max_var = Param(initialize = max_variance, doc = 'Maximum variance of a company')\n",
    "\n",
    "# Decision variable\n",
    "model.x = Var(model.i, doc=\"Weights per asset\", within=NonNegativeReals)\n",
    "\n",
    "# For storing dual values\n",
    "model.dual = Suffix(direction=Suffix.IMPORT)"
   ]
  },
  {
   "cell_type": "code",
   "execution_count": 15,
   "id": "eb6beee1",
   "metadata": {},
   "outputs": [],
   "source": [
    "# Objective rule where the goal is to maximize the expected return\n",
    "def objective_rule(model):\n",
    "    return sum(model.r[i] * model.x[i] for i in model.i)\n",
    "model.obj = Objective(rule=objective_rule, sense=maximize, doc='Expected return per asset')"
   ]
  },
  {
   "cell_type": "code",
   "execution_count": 16,
   "id": "306d13ee",
   "metadata": {},
   "outputs": [],
   "source": [
    "# Constraint: Total Budget Lower Bound\n",
    "def budget_constraint_lower_rule(model):\n",
    "    # Ensure that the total investment in the portfolio is at least half of the total budget\n",
    "    return sum(model.x[i] for i in model.i) >= model.budget / 2\n",
    "model.budget_constraint_lower_rule = Constraint(rule=budget_constraint_lower_rule, doc='Total Budget Lower Bound')\n",
    "\n",
    "# Constraint: Total Budget Upper Bound\n",
    "def budget_constraint_upper_rule(model):\n",
    "    # Ensure that the total investment in the portfolio does not exceed the total budget\n",
    "    return sum(model.x[i] for i in model.i) <= model.budget\n",
    "model.budget_constraint_upper_rule = Constraint(rule=budget_constraint_upper_rule, doc='Total Budget Upper Bound')\n",
    "\n",
    "# Constraint: Non-Negativity Weights\n",
    "def non_negativity_constraint_rule(model, i):\n",
    "    # Ensure that the weights assigned to each asset are non-negative\n",
    "    return model.x[i] >= 0\n",
    "model.non_negativity_constraint_rule = Constraint(model.i, rule=non_negativity_constraint_rule, doc=\"Non-Negative Weights\")\n",
    "\n",
    "# Constraint: Maximum Asset Weight\n",
    "def max_weight_constraint_rule(model, i):\n",
    "    # Ensure that the weight of each individual asset does not exceed a certain percentage of the total budget\n",
    "    return model.x[i] <= model.budget * model.max_asset\n",
    "model.max_weight_constraint_rule = Constraint(model.i, rule=max_weight_constraint_rule)\n",
    "\n",
    "# Constraint: Sector Investment Constraint\n",
    "def sector_investment_constraint_rule(model, sector):\n",
    "    # Calculate the total investment in the current sector\n",
    "    total_sector_investment = sum(model.x[i] for i in model.i if model.sector[i] == sector)\n",
    "    # Ensure that the total investment in the sector does not exceed a certain percentage of the total budget\n",
    "    return total_sector_investment <= model.budget * model.max_sector\n",
    "model.sector_investment_constraint_rule = Constraint(sectors, rule=sector_investment_constraint_rule)\n",
    "\n",
    "# Constraint: Maximum Variance Constraint\n",
    "def max_variance_ctr_rule(model, i):\n",
    "    # Maximum allowed value for model.v[i] * model.x[i] based on range_upper\n",
    "    max_allowed_value = max(model.var.values()) * model.max_var * model.x[i]\n",
    "\n",
    "    # Ensure that model.v[i] * model.x[i] does not exceed the maximum allowed value\n",
    "    return model.var[i] * model.x[i] <= max_allowed_value\n",
    "\n",
    "model.max_variance_ctr_rule = Constraint(model.i, rule=max_variance_ctr_rule)\n"
   ]
  },
  {
   "cell_type": "code",
   "execution_count": 17,
   "id": "bae18d2d",
   "metadata": {},
   "outputs": [
    {
     "name": "stdout",
     "output_type": "stream",
     "text": [
      "The companies that will be chosen and the amount of budget allocated to them are:\n",
      "x[C16] 200000.0\n",
      "x[C35] 50000.0\n",
      "x[C41] 50000.0\n",
      "x[C42] 50000.0\n",
      "x[C43] 200000.0\n",
      "x[C46] 50000.0\n",
      "x[C91] 200000.0\n",
      "x[C92] 200000.0\n",
      "The expected return (benefits) for a month is 147000.0\n"
     ]
    }
   ],
   "source": [
    "# Solve the problem\n",
    "opt = SolverFactory(\"glpk\")\n",
    "opt.solve(model)\n",
    "\n",
    "print(\"The companies that will be chosen and the amount of budget allocated to them are:\")\n",
    "\n",
    "# We will only display the companies in which some money will be invested\n",
    "tol = 1e-4\n",
    "for k in model.x.keys():\n",
    "    if abs(model.x[k].value)>tol:\n",
    "        print (model.x[k].getname(), round(model.x[k].value,2))\n",
    "        \n",
    "print(\"The expected return (benefits) for a month is\", model.obj())"
   ]
  },
  {
   "cell_type": "markdown",
   "id": "f4b78513",
   "metadata": {},
   "source": [
    "A graph may also give a good representation of the solution of our problem:"
   ]
  },
  {
   "cell_type": "code",
   "execution_count": 18,
   "id": "bfe90120",
   "metadata": {},
   "outputs": [
    {
     "data": {
      "image/png": "[encoded data removed]",
      "text/plain": [
       "<Figure size 800x800 with 1 Axes>"
      ]
     },
     "metadata": {},
     "output_type": "display_data"
    }
   ],
   "source": [
    "# Extract companies and investments for which money has been invested\n",
    "invested_companies = [i for i in model.i if model.x[i].value > 0]\n",
    "investments = [model.x[i].value for i in invested_companies]\n",
    "\n",
    "# Create a pie chart\n",
    "plt.figure(figsize=(8, 8))\n",
    "plt.pie(investments, labels=invested_companies, autopct='%1.1f%%', startangle=140)\n",
    "plt.title('Investment Distribution in Portfolio')\n",
    "plt.show()"
   ]
  },
  {
   "cell_type": "markdown",
   "id": "a3f4f572",
   "metadata": {},
   "source": [
    "## C) Constraints sensitivities"
   ]
  },
  {
   "cell_type": "markdown",
   "id": "138b888e",
   "metadata": {},
   "source": [
    "### Dual values"
   ]
  },
  {
   "cell_type": "markdown",
   "id": "8d40d260",
   "metadata": {},
   "source": [
    "The dual values of the constraints represent the rate of change of the objective function with respect to a one-unit increase in the right-hand side of that constraint, while keeping all other constraints unchanged."
   ]
  },
  {
   "cell_type": "markdown",
   "id": "81e854dd",
   "metadata": {},
   "source": [
    "The dual values that are different from 0 in this model are going to be displayed:"
   ]
  },
  {
   "cell_type": "code",
   "execution_count": 19,
   "id": "fd881be3",
   "metadata": {},
   "outputs": [
    {
     "name": "stdout",
     "output_type": "stream",
     "text": [
      "budget_constraint_upper_rule : 0.09\n",
      "max_weight_constraint_rule[C16] : 0.06\n",
      "max_weight_constraint_rule[C91] : 0.03\n",
      "max_weight_constraint_rule[C92] : 0.02\n",
      "sector_investment_constraint_rule[Consumer Goods] : 0.02\n",
      "sector_investment_constraint_rule[Telecommunications] : 0.03\n",
      "sector_investment_constraint_rule[Manufacturing] : 0.09\n"
     ]
    }
   ],
   "source": [
    "for key, value in model.dual.items():\n",
    "    if value != 0:\n",
    "        print(f\"{key} : {value}\")"
   ]
  },
  {
   "cell_type": "markdown",
   "id": "b7ee9328",
   "metadata": {},
   "source": [
    "Why among all are this the only constraints that have dual values in this case? To answering this question, it is necessary to recall the data among the selected companies."
   ]
  },
  {
   "cell_type": "code",
   "execution_count": 20,
   "id": "ebf7e1bd",
   "metadata": {},
   "outputs": [
    {
     "name": "stdout",
     "output_type": "stream",
     "text": [
      "Parameters:\n",
      "Total budget: 1000000\n",
      "Maximum weight per asset: 0.2\n",
      "Maximum weight per sector: 0.25\n",
      "\n",
      "Selected Companies:\n",
      "Company C16: Investment = 200000.0, Return = 0.15, Sector = Healthcare\n",
      "Company C35: Investment = 50000.0, Return = 0.11, Sector = Consumer Goods\n",
      "Company C41: Investment = 50000.0, Return = 0.09, Sector = Finance\n",
      "Company C42: Investment = 50000.0, Return = 0.12, Sector = Telecommunications\n",
      "Company C43: Investment = 200000.0, Return = 0.18, Sector = Manufacturing\n",
      "Company C46: Investment = 50000.0, Return = 0.18, Sector = Manufacturing\n",
      "Company C91: Investment = 200000.0, Return = 0.15, Sector = Telecommunications\n",
      "Company C92: Investment = 200000.0, Return = 0.13, Sector = Consumer Goods\n"
     ]
    }
   ],
   "source": [
    "# Get the indices of selected companies (where model.x[i] is non-zero)\n",
    "selected_companies = [i for i in model.i if model.x[i].value != 0]\n",
    "\n",
    "# Access the corresponding expected returns, sectors, and money invested\n",
    "selected_returns = [model.r[i] for i in selected_companies]\n",
    "selected_sectors = [model.sector[i] for i in selected_companies]\n",
    "selected_investments = [model.x[i].value for i in selected_companies]\n",
    "\n",
    "# Parameters print\n",
    "print(\"Parameters:\")\n",
    "print(\"Total budget:\", model.budget())\n",
    "print(\"Maximum weight per asset:\", model.max_asset())\n",
    "print(\"Maximum weight per sector:\",model.max_sector())\n",
    "print(\"\")\n",
    "\n",
    "# Print or use the selected returns, sectors, and investments as needed\n",
    "print(\"Selected Companies:\")\n",
    "for i, ret, sector, investment in zip(selected_companies, selected_returns, selected_sectors, selected_investments):\n",
    "    print(f\"Company {i}: Investment = {round(investment,2)}, Return = {ret}, Sector = {sector}\")\n"
   ]
  },
  {
   "cell_type": "markdown",
   "id": "ea29b052",
   "metadata": {},
   "source": [
    "### Analysis"
   ]
  },
  {
   "cell_type": "markdown",
   "id": "30517d93",
   "metadata": {},
   "source": [
    "First, notice the companies with a higher investment: C16, C43, C91 and C92. This four companies have an investment of 200.000, the maximum amount of money per asset that is possible. That is why there is positive dual values in:\n",
    "* <b>max_weight_constraint_rule[C16] : 60000.0</b>\n",
    "\n",
    "For C16, the dual value is 60000.0. This means that increasing the weight (investment) in C16 by one unit would increase the objective function value by 60000.0. It indicates the marginal benefit of investing more in this specific company. (More information in the questions below)\n",
    "\n",
    "* <b>max_weight_constraint_rule[C91] : 30000.0</b>\n",
    "\n",
    "For Company C91, the dual value is 30000.0. Increasing the weight (investment) in C91 by one unit would increase the objective function value by 30000.0.\n",
    "\n",
    "* <b>max_weight_constraint_rule[C92] : 20000.0</b>\n",
    "\n",
    "For Company C92, the dual value is 20000.0. Similar to the previous cases, increasing the weight (investment) in Company C92 by one unit would increase the objective function value by 20000.0."
   ]
  },
  {
   "cell_type": "markdown",
   "id": "1da85a61",
   "metadata": {},
   "source": [
    "<u>Why there are the duals different among C16 and C91 if they have the same return level (0.15)? </u>\n",
    "\n",
    "While C91 also has a high expected return (0.15, the same as C16), the dual value is lower than that of C16. This suggests that, compared to C16, allocating additional budget to C91 contributes less to the overall improvement in the objective function. It could be due to factors such as the diversity of the portfolio. Notice that C91 (Telecommunications) and C92 (Consumer Goods) belong to sectors that are alredy in other companies selected and therefore the budget invested in the companies is limited also by the maximum weight per sector.\n",
    "\n",
    "<u>What happens with C92 dual value? </u>\n",
    "\n",
    "C92 has the lowest expected return among the three discussed (0.13). The lower dual value indicates that the marginal improvement in the objective function by increasing the weight of C92 is less compared to C16 and C91. The optimization process is indicating that, given the current circumstances, investing more in C92 provides a lower return for the overall portfolio.\n",
    "\n",
    "\n",
    "Another question that may arise is: <u>what is the reason for the ausence of a dual value for max_weight_constraint_rule of C43? </u>. \n",
    "\n",
    "This means that a change in the maximum weight per asset constraint does not affect the budget allocated to this variable. Now the focus must be set on the sector of this variable which happens to be Manufacturing. There is alredy another company, C46, with the same return (0.18, the same as C43)in the same sector and recalling: \n",
    "\n",
    "* <b>sector_investment_constraint_rule[Manufacturing] : 0.09 </b>\n",
    "\n",
    "Increasing the budget allocation to the Manufacturing sector by one unit would result in the highest increase in the objective function (0.09) value among the three sectors with a dual value different from 0. Despite this, this value is low and may inidicate that increasing the investment in this sector beyond the specified constraint does not lead to a significant improvement in the overall expected return. Therefore, the contrains appears because the maximum budget has been allocated to the sector Consumer Goods and the optimal budget distribution among this sector has been reached.\n",
    "\n",
    "Returning to the initial question of why C43 dual value in max weight per asset constraints is zero, this dual value means that the budget associated to this variable has been limited by the sector constraint and increasing the budget allocated to C43 would violate another constraint first because both companies (C43 and C46) allocated budget correspond to 250.000, the maximum allowed budget per sector."
   ]
  },
  {
   "cell_type": "markdown",
   "id": "0c532185",
   "metadata": {},
   "source": [
    "Other sectors affected by the maximum weight per sector constraint are:\n",
    "\n",
    "* <b>sector_investment_constraint_rule[Consumer Goods] : 0.02</b>\n",
    "\n",
    "An increase in the total investment in the Consumer Goods sector by a small amount (0.02 times the total budget), the expected return (objective function) would increase by this amount. However, the optimization process has determined that the current allocation of funds to the Consumer Goods sector is optimal, and increasing the investment in this sector beyond the specified constraint does not lead to a significant improvement in the overall expected return. Therefore, the contrains appears because the maximum budget has been allocated to the sector Consumer Goods.\n",
    "\n",
    "* <b> sector_investment_constraint_rule[Telecommunications] : 0.03</b>\n",
    "The same that has been stated before happens with the sector Telecommunications"
   ]
  },
  {
   "cell_type": "markdown",
   "id": "4a543e23",
   "metadata": {},
   "source": [
    "Finally, the dual value left is:\n",
    "\n",
    "* <b>budget_constraint_upper_rule : 0.09</b>\n",
    "\n",
    "Notice that all the budget has been inverted and due to the positive dual value, it can be guessed that there are some companies with a positive return that have no budget invested in and would be worth to look forward to (although they are not as profitable as the companies alredy chosen).\n",
    "\n",
    "Not all the constraints have dual values. In fact, almost all constraints are 0 for almost all companies. The reason of this is because the condition represented by the constraint is not a limiting factor with our data in achieving the optimal objective value."
   ]
  },
  {
   "cell_type": "markdown",
   "id": "f214c6ee",
   "metadata": {},
   "source": [
    "## D) Problem reformulation. Binary and Integer constraints."
   ]
  },
  {
   "cell_type": "markdown",
   "id": "9b48ae8f",
   "metadata": {},
   "source": [
    "With the use of new variables, the complexity of our problem can be increased so that it represents a closer example of a real life situation. In order to add new binary variables/parameters/constraints it may be necessary to re-create the model. \n",
    "\n",
    "The difference with the previously stated model would be that it will be assumed that each company will have a different cost depending on the taxes (some type of companies may have deductions due to the type of company or the region it is located in), transaction expenses, management fees, settlement and liquidity costs among others. Therefore, the model will need to take into account this cost (once it has been selected, that is when the binary variable enters). Furthermore, other two new parameters were created: one parameter contains the information about the existence of dividends in the company and the other about wether the company has a positive or a negative image analysing recent news (sentiment).\n",
    "\n",
    "* <b><u>Model sets</u></b>: Again, our model set is going to be <b>\"model.i\"</b> which corresponds to the list of companies.\n",
    "\n",
    "* <b><u>Parameters</u></b>: \n",
    "        \n",
    "    <u>Old parameters used again </u>\n",
    "    * <b>model.r</b>: companies' returns \n",
    "    * <b>model.var</b>: companies' variances\n",
    "    * <b>model.sector</b>: companies' sectors\n",
    "    * <b>model.budget</b>: total budget available for investment.\n",
    "    * <b>model.max_asset</b>: maximum percentage of the budget that can be invested in a single asset.\n",
    "    * <b>model.max_sector</b>: maximum percentage of the budget that can be invested in a single sector.\n",
    "    * <b>model.max_var</b>: maximum ratio of the highest variance a company can have\n",
    "    \n",
    "\n",
    "    <u> New parameters </u>\n",
    "    * <b> model.cost </b>: integer parameter that contains the cost of investing in each company.\n",
    "    * <b> model.dividends </b>: binary parameter that represents if the company gives out dividends (1) or not (0). \n",
    "    * <b> model.sentiment </b>: binary parameter that represents whether recent news sentiment for the asset is positive (1) or not (0). \n",
    "    * <b> model.max_assets </b>: integer parameter that defines the maximum number of assets in which the user can invest.\n",
    "    * <b> model.min_assets </b>: integer parameter that defines the minimum number of assets in which the user can invest.\n",
    "    \n",
    "* <b><u> Variables </u></b>:\n",
    "\n",
    "    <u>Old Variable</u>\n",
    "    * <b>model.x</b>: Weights per asset for each company\n",
    "    \n",
    "    <u>New Variable</u>\n",
    "    * <b> model.y</b>: Binary variable for each company. It represents if anything is invested (1) or not (0)\n",
    "    \n",
    "* <b><u> Objective function </u></b>: the objective function aims to find the best allocation of weights to assets in the portfolio, taking into account the fixed costs associated with selected assets so that the function takes into account the return and the cost of including that company in the portfolio.\n",
    "\n",
    "  <img src=\"objective_function2.PNG\" width=\"400\" height=\"300\">\n",
    "  \n",
    "  Here: \n",
    "    * i iterates all over the different companies\n",
    "    * ri is the expected return of the company i\n",
    "    * xi is the amount of money invested in the company i\n",
    "    * yi is if the company i has been selected for investment (0) or not (1)\n",
    "\n",
    "* <b><u> Constraints </b></u>:\n",
    "\n",
    "   <u>Old constraints used again </u>\n",
    "    1) <b>Total Budget Lower Bound</b>\n",
    "    3) <b>Non-negative values</b>\n",
    "    5) <b>Sector Investment Constraint</b>\n",
    "    6) <b>Maximum Variance Constraint</b>\n",
    "    \n",
    "    Maximum Asset Weight constraint can be skipped due to a binary constraint. In the new constraints it will be explained.\n",
    "    \n",
    "    <u>New constraints used again </u>\n",
    "    \n",
    "    7) <b>Binary Selection</b>: \"binary_selection_constraint_rule\" ensures that if something is invested in company i, then model.y[i] value would correspond to 1. Following that train of thoughts, if nothing is inverted then model.y[i] should be 0.\n",
    "    \n",
    "        <img src=\"binary_selection.png\" width=\"300\" height=\"200\">\n",
    "    \n",
    "    8) <b>Binary Non-Selection</b>: \"binary_non_selection_constraint_rule\" ensures that if an asset is not selected (y[i] == 0), then the weight (x[i]) is zero. In case the asset is selected, the amount of money invested should not exceed the maximum stated in the previous model. With this condition, the previously created constraint \"Maximum Asset Weight\" can be eliminated.\n",
    "            <img src=\"binary_nonselection.png\" width=\"500\" height=\"400\">\n",
    "\n",
    "    9) <b>Minimum Number of Assets</b>: \"minimum_assets_constraint_constraint_rule\" ensures that a minimum number of assets is chosen. In this case, it is ensured that there are at least 10 companies selected. \n",
    "            <img src=\"min_number_assets.png\" width=\"400\" height=\"300\">\n",
    "            \n",
    "    9) <b>Minimum Number of Assets</b>: \"minimum_assets_constraint_constraint_rule\" ensures that a maximum number of assets is chosen. In this case, it is ensured that there are at much 25 companies selected. \n",
    "            <img src=\"max_number_assets.png\" width=\"400\" height=\"300\">\n",
    "\n",
    "    10) <b>Minimum Investment</b>: \"minimum_investment_constraint_rule\" ensures that if something is invested in a coompany, a minimum amount of capital must be destinated to it.\n",
    "             <img src=\"min_investment.png\" width=\"300\" height=\"200\">"
   ]
  },
  {
   "cell_type": "markdown",
   "id": "5dcaa492",
   "metadata": {},
   "source": [
    "### Data generation for new parameters"
   ]
  },
  {
   "cell_type": "code",
   "execution_count": 21,
   "id": "a6cda43a",
   "metadata": {},
   "outputs": [],
   "source": [
    "# Personalizable parameters\n",
    "min_number_comp = 10\n",
    "max_number_comp = 25"
   ]
  },
  {
   "cell_type": "code",
   "execution_count": 22,
   "id": "23fa699f",
   "metadata": {},
   "outputs": [],
   "source": [
    "# Generate random binary values for dividends (0 or 1)\n",
    "dividends_data = {i: random.choice([0, 1]) for i in companies}\n",
    "\n",
    "# Generate random binary values for news sentiment (0 or 1)\n",
    "news_sentiment_data = {i: random.choice([0, 1]) for i in companies}\n",
    "\n",
    "# Generate random costs values\n",
    "costs = {company: round(random.uniform(5000, 10000), 2) for company in companies}"
   ]
  },
  {
   "cell_type": "markdown",
   "id": "678770d8",
   "metadata": {},
   "source": [
    "### Implementation of the model in a Pyomo notebook"
   ]
  },
  {
   "cell_type": "code",
   "execution_count": 23,
   "id": "196d24be",
   "metadata": {},
   "outputs": [],
   "source": [
    "from pyomo.environ import *\n",
    "\n",
    "model = ConcreteModel()\n",
    "\n",
    "# ----------------------------- OLD PARAMETERS -----------------------------\n",
    "\n",
    "# Companies\n",
    "model.i = Set(initialize=companies, doc=\"Companies\")\n",
    "# Returns\n",
    "model.r = Param(model.i, initialize=company_expected_returns, doc=\"Expected return\")\n",
    "# Variances\n",
    "model.var = Param(model.i, initialize = variances, doc = \"Variances\")\n",
    "# Sectors\n",
    "model.sector = Param(model.i, initialize=company_sector, doc=\"Sector of each company\")\n",
    "# Costs\n",
    "model.cost = Param(model.i, initialize=costs, doc=\"Sector of each company\")\n",
    "\n",
    "\n",
    "# Total budget\n",
    "model.budget = Param(initialize = budget, doc = 'Total budget')\n",
    "# Maximum weight per asset\n",
    "model.max_asset = Param(initialize = max_asset_percentage, doc = 'Maximum percentage of budget that can be invested in an asset')\n",
    "# Maximum weight per sector\n",
    "model.max_sector = Param(initialize = max_sector_percentage, doc = 'Maximum percentage of budget that can be invested in a sector')\n",
    "# Maximum variance \n",
    "model.max_var = Param(initialize = max_variance, doc = 'Maximum variance of a company')\n",
    "# Maximum number of assets\n",
    "model.max_assets = Param(initialize = max_number_comp, doc = 'Maximum number of assets')\n",
    "# Minimum number of assets\n",
    "model.min_assets = Param(initialize = min_number_comp, doc = 'Minimum number of assets')\n",
    "\n",
    "# ----------------------------- NEW PARAMETERS -----------------------------\n",
    "# Binary parameter for dividends\n",
    "model.dividends = Param(model.i, initialize=dividends_data, doc=\"Dividends variable\", within=Binary)\n",
    "# Binary parameter for news sentiment\n",
    "model.sentiment = Param(model.i, initialize=news_sentiment_data, doc=\"News sentiment variable\", within=Binary)\n",
    "\n",
    "# ----------------------------- OLD VARIABLE -----------------------------\n",
    "\n",
    "model.x = Var(model.i, doc=\"Weights per asset\", within=NonNegativeReals)\n",
    "\n",
    "# ----------------------------- NEW VARIABLE -----------------------------\n",
    "\n",
    "model.y = Var(model.i, doc=\"Binary variable\", within=Binary)"
   ]
  },
  {
   "cell_type": "code",
   "execution_count": 24,
   "id": "8734d7a9",
   "metadata": {},
   "outputs": [],
   "source": [
    "# Objective rule with binary variable\n",
    "def objective_rule(model):\n",
    "    return sum(model.r[i] * model.x[i] - model.y[i] * model.cost[i] for i in model.i)\n",
    "\n",
    "model.obj = Objective(rule=objective_rule, sense=maximize, doc='Expected return per asset considering fixed costs')"
   ]
  },
  {
   "cell_type": "code",
   "execution_count": 25,
   "id": "f605b148",
   "metadata": {},
   "outputs": [],
   "source": [
    "# ----------------------------- OLD CONSTRAINTS -----------------------------\n",
    "\n",
    "# Constraint: Total Budget Lower Bound\n",
    "def budget_constraint_lower_rule(model):\n",
    "    # Ensure that the total investment in the portfolio is at least half of the total budget\n",
    "    return sum(model.x[i] for i in model.i) >= model.budget / 2\n",
    "model.budget_constraint_lower_rule = Constraint(rule=budget_constraint_lower_rule, doc='Total Budget Lower Bound')\n",
    "\n",
    "# Constraint: Total Budget Upper Bound\n",
    "def budget_constraint_upper_rule(model):\n",
    "    # Ensure that the total investment in the portfolio does not exceed the total budget\n",
    "    return sum(model.x[i] for i in model.i) <= model.budget\n",
    "model.budget_constraint_upper_rule = Constraint(rule=budget_constraint_upper_rule, doc='Total Budget Upper Bound')\n",
    "\n",
    "# Constraint: Non-Negativity Weights\n",
    "def non_negativity_constraint_rule(model, i):\n",
    "    # Ensure that the weights assigned to each asset are non-negative\n",
    "    return model.x[i] >= 0\n",
    "model.non_negativity_constraint_rule = Constraint(model.i, rule=non_negativity_constraint_rule, doc=\"Non-Negative Weights\")\n",
    "\n",
    "# Constraint: Sector Investment Constraint\n",
    "def sector_investment_constraint_rule(model, sector):\n",
    "    # Calculate the total investment in the current sector\n",
    "    total_sector_investment = sum(model.x[i] for i in model.i if model.sector[i] == sector)\n",
    "    # Ensure that the total investment in the sector does not exceed a certain percentage of the total budget\n",
    "    return total_sector_investment <= model.budget * model.max_sector\n",
    "model.sector_investment_constraint_rule = Constraint(sectors, rule=sector_investment_constraint_rule)\n",
    "\n",
    "# Constraint: Maximum Variance Constraint\n",
    "def max_variance_ctr_rule(model, i):\n",
    "    # Maximum allowed value for model.v[i] * model.x[i] based on range_upper\n",
    "    max_allowed_value = max(model.var.values()) * model.max_var * model.x[i]\n",
    "\n",
    "    # Ensure that model.v[i] * model.x[i] does not exceed the maximum allowed value\n",
    "    return model.var[i] * model.x[i] <= max_allowed_value\n",
    "\n",
    "model.max_variance_ctr_rule = Constraint(model.i, rule=max_variance_ctr_rule)\n",
    "\n",
    "# ----------------------------- NEW CONSTRAINTS -----------------------------\n",
    "#           (they involve the binary variable and binary parameters)\n",
    "\n",
    "\n",
    "# -- CREATION OF model.y[i] --\n",
    "\n",
    "# Constraint: Binary Selection\n",
    "def binary_selection_constraint_rule(model, i):\n",
    "    return model.x[i] >= model.y[i] * 0.001  # small positive threshold \n",
    "\n",
    "model.binary_selection_constraint_rule = Constraint(model.i, rule=binary_selection_constraint_rule, doc='Binary selection constraint')\n",
    "\n",
    "# Constraint: Binary Non Selection\n",
    "def binary_non_selection_constraint_rule(model, i):\n",
    "    return model.x[i] <= model.y[i] * model.max_asset * model.budget\n",
    "model.binary_non_selection_constraint_rule = Constraint(model.i, rule=binary_non_selection_constraint_rule, doc='Binary non-selection constraint')\n",
    "\n",
    "# ---------------------------\n",
    "\n",
    "# Constraint: Minimum number of assets\n",
    "def minimum_assets_constraint_constraint_rule(model):\n",
    "    return sum(model.y[i] for i in model.i) >= model.min_assets\n",
    "model.minimum_assets_constraint_constraint_rule = Constraint(rule=minimum_assets_constraint_constraint_rule, doc='Minimum number of assets that must be selected')\n",
    "\n",
    "# Constraint: Maximum Number of Assets\n",
    "def max_assets_constraint_rule(model):\n",
    "    return sum(model.y[i] for i in model.i) <= model.max_assets\n",
    "\n",
    "model.max_assets_constraint_rule = Constraint(rule=max_assets_constraint_rule, doc='Maximum number of assets that can be selected')\n",
    "\n",
    "# Constraint: Minimum Investment\n",
    "def minimum_investment_constraint_rule(model, i):\n",
    "    return model.x[i] >= 10000 * model.y[i]\n",
    "model.minimum_investment_constraint_rule = Constraint(model.i, rule=minimum_investment_constraint_rule, doc='Investment threshold constraint')\n"
   ]
  },
  {
   "cell_type": "code",
   "execution_count": 26,
   "id": "9d3542cd",
   "metadata": {},
   "outputs": [
    {
     "name": "stdout",
     "output_type": "stream",
     "text": [
      "The companies that will be chosen and the amount of budget allocated to them are:\n",
      "x[C16] 200000.0\n",
      "x[C35] 50000.0\n",
      "x[C37] 10000.0\n",
      "x[C42] 50000.0\n",
      "x[C43] 200000.0\n",
      "x[C46] 50000.0\n",
      "x[C48] 30000.0\n",
      "x[C88] 10000.0\n",
      "x[C91] 200000.0\n",
      "x[C92] 200000.0\n",
      "The expected return (benefits) for a month is 78188.96\n"
     ]
    }
   ],
   "source": [
    "# Solve the problem\n",
    "opt = SolverFactory(\"glpk\")\n",
    "opt.solve(model)\n",
    "\n",
    "print(\"The companies that will be chosen and the amount of budget allocated to them are:\")\n",
    "\n",
    "# We will only display the companies in which some money will be invested\n",
    "tol = 1e-4\n",
    "for k in model.x.keys():\n",
    "    if abs(model.x[k].value)>tol:\n",
    "        print (model.x[k].getname(), round(model.x[k].value,2))\n",
    "        \n",
    "print(\"The expected return (benefits) for a month is\", round(model.obj(),2))"
   ]
  },
  {
   "cell_type": "markdown",
   "id": "6e1813be",
   "metadata": {},
   "source": [
    "Due to the new constraints the choice of companies has varied slightly and, as a consequence, also the expected return. This information can be plotted:"
   ]
  },
  {
   "cell_type": "code",
   "execution_count": 27,
   "id": "091105a7",
   "metadata": {},
   "outputs": [
    {
     "data": {
      "image/png": "[encoded data removed]",
      "text/plain": [
       "<Figure size 1000x600 with 1 Axes>"
      ]
     },
     "metadata": {},
     "output_type": "display_data"
    }
   ],
   "source": [
    "# Extracting the binary selection status for each asset\n",
    "selected_assets = [i for i in model.i if model.y[i]() == 1]\n",
    "\n",
    "# Creating a bar chart for selected assets only\n",
    "fig, ax = plt.subplots(figsize=(10, 6))\n",
    "assets = np.arange(len(selected_assets))\n",
    "\n",
    "ax.bar(assets, [model.x[i]() for i in selected_assets], color='green')  # Bar color for selected assets\n",
    "\n",
    "ax.set_xticks(assets)\n",
    "ax.set_xticklabels(selected_assets, rotation='vertical')\n",
    "ax.set_xlabel('Selected Assets')\n",
    "ax.set_ylabel('Investment')\n",
    "ax.set_title('Selected Asset Investments')\n",
    "\n",
    "plt.show()"
   ]
  },
  {
   "cell_type": "markdown",
   "id": "cb5e44bf",
   "metadata": {},
   "source": [
    "Furthermore, in order to analyse the the trade-off between expected return and risk (variance) for the selected assets in the portfolio optimization model."
   ]
  },
  {
   "cell_type": "code",
   "execution_count": 28,
   "id": "429e1a58",
   "metadata": {},
   "outputs": [
    {
     "data": {
      "image/png": "[encoded data removed]",
      "text/plain": [
       "<Figure size 1000x600 with 1 Axes>"
      ]
     },
     "metadata": {},
     "output_type": "display_data"
    }
   ],
   "source": [
    "import matplotlib.pyplot as plt\n",
    "\n",
    "# Assuming you have solved the model and have the results\n",
    "# Replace 'results' with the actual results object from Pyomo\n",
    "# results = model.solve()\n",
    "\n",
    "# Extracting relevant information from the solved model\n",
    "returns = [model.r[i] for i in model.i]\n",
    "risks = [model.var[i] for i in model.i]\n",
    "selected_assets = [i for i in model.i if model.y[i]() == 1]\n",
    "\n",
    "# Create a scatter plot\n",
    "plt.figure(figsize=(10, 6))\n",
    "plt.scatter(returns, risks, color='gray', label='Not Selected', alpha=0.5)\n",
    "plt.scatter([model.r[i] for i in selected_assets], [model.var[i] for i in selected_assets], color='green', label='Selected')\n",
    "plt.xlabel('Expected Return')\n",
    "plt.ylabel('Risk (Variance)')\n",
    "plt.title('Risk-Return Scatter Plot')\n",
    "plt.legend()\n",
    "plt.show()\n"
   ]
  },
  {
   "cell_type": "markdown",
   "id": "173cfa04",
   "metadata": {},
   "source": [
    "The concentration of points in the right side area is logical due to the fact that it is where positive returns are allocated. On the other hand, the spread of selected assets in this area suggests a balanced distribution, minimizing exposure to extreme levels of risk."
   ]
  },
  {
   "cell_type": "markdown",
   "id": "2d96db5d",
   "metadata": {},
   "source": [
    "## Conclusion of the Optimization Problem"
   ]
  },
  {
   "cell_type": "markdown",
   "id": "4bf50c39",
   "metadata": {},
   "source": [
    "Throughout this project it has been addressed a real-world decision-making problem related to investment portfolio optimization. Specifically, the problem main goal was to select the best combination of assets selection such that return obtained from them was maximized.\n",
    "\n",
    "The first step was the selection of relevant information and the formulation of calculations for essential metrics such as returns and variances. Then, a simulation of these invented company was created using random data generators for the stock prices and the sectors. With this information, all the data necessary for the creation of the linear model was obtained and the pyomo formulation was done. In this process a dual variable was created in order to store the sensitivities from the constraints. Finally, the best combination of companies was retrieved. \n",
    "\n",
    "The second part of the project revolved around adding binary data to our model. In detail, new parameters, a variable and contraints were added so that the problem could represent better a realistic situation and to enhance the model's representational capacity. \n",
    "\n",
    "All this process was supported by plots and comments which helped understading the solutions that were obtained, which were different in the models due to the fact of the incorporation of new information. \n",
    "\n",
    "Summarizing, the success of this project lies in the understanding of the problem and what needs to be solve so that the model represent a representation of investment decision-making."
   ]
  }
 ],
 "metadata": {
  "kernelspec": {
   "display_name": "Python 3 (ipykernel)",
   "language": "python",
   "name": "python3"
  },
  "language_info": {
   "codemirror_mode": {
    "name": "ipython",
    "version": 3
   },
   "file_extension": ".py",
   "mimetype": "text/x-python",
   "name": "python",
   "nbconvert_exporter": "python",
   "pygments_lexer": "ipython3",
   "version": "3.8.17"
  }
 },
 "nbformat": 4,
 "nbformat_minor": 5
}
